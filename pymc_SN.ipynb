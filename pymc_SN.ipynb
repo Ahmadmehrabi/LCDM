{
 "metadata": {
  "language_info": {
   "codemirror_mode": {
    "name": "ipython",
    "version": 3
   },
   "file_extension": ".py",
   "mimetype": "text/x-python",
   "name": "python",
   "nbconvert_exporter": "python",
   "pygments_lexer": "ipython3",
   "version": "3.7.7"
  },
  "orig_nbformat": 4,
  "kernelspec": {
   "name": "python3",
   "display_name": "Python 3.7.7 64-bit ('base': conda)"
  },
  "interpreter": {
   "hash": "5779393619fff222e630438d46484518de903c6cdded0ec53cb1ca6ec12d0377"
  }
 },
 "nbformat": 4,
 "nbformat_minor": 2,
 "cells": [
  {
   "cell_type": "code",
   "execution_count": 1,
   "metadata": {},
   "outputs": [],
   "source": [
    "import numpy as np\n",
    "import background as bac\n",
    "import matplotlib.pyplot as plt\n",
    "from pathlib import Path\n",
    "import os\n",
    "\n",
    "%matplotlib inline\n",
    "plt.rcParams['figure.figsize'] = (12,5)\n",
    "cwd=os.getcwd()\n",
    "\n",
    "import pymc3 as pm\n",
    "import theano\n",
    "import theano.tensor as tt\n",
    "import integration as inn\n",
    "import background as bg\n",
    "import os"
   ]
  },
  {
   "cell_type": "code",
   "execution_count": 3,
   "metadata": {},
   "outputs": [
    {
     "output_type": "stream",
     "name": "stdout",
     "text": [
      "SN data are loaded\n"
     ]
    }
   ],
   "source": [
    "path_data = cwd + '/data/SN.txt'\n",
    "data_file = Path(path_data)\n",
    "if data_file.is_file():\n",
    "    data = np.genfromtxt(path_data)\n",
    "    z_obs = data[:,0]\n",
    "    mu_obs = data[:,1]\n",
    "    dmu_obs = data[:,2]\n",
    "    print(\"SN data are loaded\")\n",
    "    \n",
    "else:\n",
    "    print(\"SN files do not exist\")\n",
    "    sys.exit(0) "
   ]
  },
  {
   "cell_type": "code",
   "execution_count": 4,
   "metadata": {},
   "outputs": [
    {
     "output_type": "error",
     "ename": "NameError",
     "evalue": "name 'theano' is not defined",
     "traceback": [
      "\u001b[0;31m---------------------------------------------------------------------------\u001b[0m",
      "\u001b[0;31mNameError\u001b[0m                                 Traceback (most recent call last)",
      "\u001b[0;32m<ipython-input-4-200dbb922c87>\u001b[0m in \u001b[0;36m<module>\u001b[0;34m\u001b[0m\n\u001b[1;32m      1\u001b[0m \u001b[0mnum\u001b[0m \u001b[0;34m=\u001b[0m \u001b[0;36m2\u001b[0m\u001b[0;34m\u001b[0m\u001b[0;34m\u001b[0m\u001b[0m\n\u001b[0;32m----> 2\u001b[0;31m \u001b[0;34m@\u001b[0m\u001b[0mtheano\u001b[0m\u001b[0;34m.\u001b[0m\u001b[0mcompile\u001b[0m\u001b[0;34m.\u001b[0m\u001b[0mops\u001b[0m\u001b[0;34m.\u001b[0m\u001b[0mas_op\u001b[0m\u001b[0;34m(\u001b[0m\u001b[0mitypes\u001b[0m\u001b[0;34m=\u001b[0m\u001b[0;34m[\u001b[0m\u001b[0mtt\u001b[0m\u001b[0;34m.\u001b[0m\u001b[0mdscalar\u001b[0m \u001b[0;32mfor\u001b[0m \u001b[0mi\u001b[0m \u001b[0;32min\u001b[0m \u001b[0mrange\u001b[0m\u001b[0;34m(\u001b[0m\u001b[0mnum\u001b[0m\u001b[0;34m)\u001b[0m\u001b[0;34m]\u001b[0m\u001b[0;34m,\u001b[0m\u001b[0motypes\u001b[0m\u001b[0;34m=\u001b[0m\u001b[0;34m[\u001b[0m\u001b[0mtt\u001b[0m\u001b[0;34m.\u001b[0m\u001b[0mdvector\u001b[0m\u001b[0;34m]\u001b[0m\u001b[0;34m)\u001b[0m\u001b[0;34m\u001b[0m\u001b[0;34m\u001b[0m\u001b[0m\n\u001b[0m\u001b[1;32m      3\u001b[0m \u001b[0;32mdef\u001b[0m \u001b[0mmu_the_pymc\u001b[0m\u001b[0;34m(\u001b[0m\u001b[0mH0\u001b[0m\u001b[0;34m,\u001b[0m\u001b[0mom\u001b[0m\u001b[0;34m)\u001b[0m\u001b[0;34m:\u001b[0m\u001b[0;34m\u001b[0m\u001b[0;34m\u001b[0m\u001b[0m\n\u001b[1;32m      4\u001b[0m         \u001b[0;32mreturn\u001b[0m \u001b[0mbg\u001b[0m\u001b[0;34m.\u001b[0m\u001b[0mmu_the\u001b[0m\u001b[0;34m(\u001b[0m\u001b[0mz_obs\u001b[0m\u001b[0;34m,\u001b[0m\u001b[0mH0\u001b[0m\u001b[0;34m,\u001b[0m\u001b[0mom\u001b[0m\u001b[0;34m)\u001b[0m\u001b[0;34m\u001b[0m\u001b[0;34m\u001b[0m\u001b[0m\n\u001b[1;32m      5\u001b[0m \u001b[0;34m\u001b[0m\u001b[0m\n",
      "\u001b[0;31mNameError\u001b[0m: name 'theano' is not defined"
     ]
    }
   ],
   "source": [
    "num = 2\n",
    "@theano.compile.ops.as_op(itypes=[tt.dscalar for i in range(num)],otypes=[tt.dvector])\n",
    "def mu_the_pymc(H0,om):\n",
    "        return bg.mu_the(z_obs,H0,om)\n",
    "\n",
    "\n",
    "def log_likelihood(H0,om):\n",
    "    mu = mu_the_pymc(H0,om)\n",
    "    x = (mu - mu_obs)/dmu_obs \n",
    "    return -0.5*pm.math.dot(x,x)\n",
    "\n",
    "\n",
    "with pm.Model() as basic_model:\n",
    "    H0 = pm.Uniform('H0', 60., 80.)\n",
    "    om = pm.Uniform('om', 0.1, .4)\n",
    "\n",
    "    like = pm.Potential('like', log_likelihood(H0,om))\n",
    "    #y = pm.Normal('y', mu=tt.as_tensor_variable(mu_func(a,b)), sd=0.1, observed=y_obs)\n",
    "    #y = pm.Normal('y', mu=mu_the_pymc(H0,om), sd=dmu_obs, observed=mu_obs)\n",
    "\n",
    "    #step = pm.Metropolis()\n",
    "    step = None\n",
    "    #step=pm.SMC()\n",
    "    #step=pm.HamiltonianMC()\n",
    "    trace = pm.sample(3000,tune=1000, cores=2,chains=2,step=step)\n"
   ]
  },
  {
   "cell_type": "code",
   "execution_count": null,
   "metadata": {},
   "outputs": [],
   "source": [
    "print(pm.summary(trace))\n",
    "pm.traceplot(trace)"
   ]
  },
  {
   "cell_type": "code",
   "execution_count": null,
   "metadata": {},
   "outputs": [],
   "source": [
    "def lom_dis_gr(z,H0,om):\n",
    "    start = theano.shared(0.)\n",
    "    stop = [theano.shared(x) for x in z]\n",
    "\n",
    "    t = tt.dscalar('t')\n",
    "    t.tag.test_value = np.ones(())\n",
    "\n",
    "    a_ = tt.dscalar('a_')\n",
    "    a_.tag.test_value = np.ones(())*70\n",
    "\n",
    "    b_ = tt.dscalar('b_')\n",
    "    b_.tag.test_value = np.ones(())*0.1\n",
    "\n",
    "    func = bg.Hub_inv(t,a_,b_)\n",
    "\n",
    "    integrate = inn.Integrate(func,t,a_,b_)\n",
    "    dis = [integrate(start,stop[i],H0,om) for i in range(len(z))]\n",
    "\n",
    "    return 3e5*(1+z)*tt.as_tensor_variable(dis)\n",
    "\n",
    "def mu_gr(H0,om):\n",
    "    return 5*tt.log10(lom_dis_gr(z_obs,H0,om)) + 25.\n",
    "\n",
    "\n",
    "def log_like_gr(H0,om):\n",
    "    mu = mu_gr(H0,om)\n",
    "    x = (mu - mu_obs)/dmu_obs \n",
    "    return -0.5*pm.math.dot(x,x)"
   ]
  },
  {
   "cell_type": "code",
   "execution_count": null,
   "metadata": {},
   "outputs": [],
   "source": [
    "with pm.Model() as basic_model:\n",
    "    H0 = pm.Uniform('H0', 60., 80.)\n",
    "    om = pm.Uniform('om', 0.1, .4)\n",
    "\n",
    "    #like = pm.Potential('like', log_likelihood(H0,om))\n",
    "    #y = pm.Normal('y', mu=tt.as_tensor_variable(mu_func(a,b)), sd=0.1, observed=y_obs)\n",
    "    y = pm.Normal('y', mu=mu_gr(H0,om), sd=dmu_obs, observed=mu_obs)\n",
    "\n",
    "    #step = pm.Metropolis()\n",
    "    step = None\n",
    "    #step=pm.SMC()\n",
    "    #step=pm.HamiltonianMC()\n",
    "    trace = pm.sample(1000,tune=500, cores=2,chains=2,step=step)"
   ]
  },
  {
   "cell_type": "code",
   "execution_count": null,
   "metadata": {},
   "outputs": [],
   "source": [
    "print(pm.summary(trace))\n",
    "pm.traceplot(trace)"
   ]
  }
 ]
}