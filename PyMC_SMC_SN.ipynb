{
 "cells": [
  {
   "cell_type": "code",
   "execution_count": 22,
   "metadata": {},
   "outputs": [
    {
     "output_type": "stream",
     "name": "stdout",
     "text": [
      "Running on PyMC3 v3.9.3\n"
     ]
    }
   ],
   "source": [
    "import numpy as np\n",
    "\n",
    "\n",
    "from pathlib import Path\n",
    "import os\n",
    "cwd=os.getcwd()\n",
    "\n",
    "import pymc3 as pm\n",
    "import theano\n",
    "import theano.tensor as tt\n",
    "import integration as inn\n",
    "import background as bg\n",
    "\n",
    "\n",
    "import arviz as az\n",
    "az.style.use(\"arviz-darkgrid\")\n",
    "\n",
    "print('Running on PyMC3 v{}'.format(pm.__version__))"
   ]
  },
  {
   "cell_type": "code",
   "execution_count": 2,
   "metadata": {},
   "outputs": [
    {
     "output_type": "stream",
     "name": "stdout",
     "text": [
      "SN data are loaded\n"
     ]
    }
   ],
   "source": [
    "path_data = cwd + '/data/SN.txt'\n",
    "data_file = Path(path_data)\n",
    "if data_file.is_file():\n",
    "    data = np.genfromtxt(path_data)\n",
    "    z_obs = data[:,0]\n",
    "    mu_obs = data[:,1]\n",
    "    dmu_obs = data[:,2]\n",
    "    print(\"SN data are loaded\")\n",
    "    \n",
    "else:\n",
    "    print(\"SN files do not exist\")\n",
    "    sys.exit(0) "
   ]
  },
  {
   "cell_type": "code",
   "execution_count": 9,
   "metadata": {},
   "outputs": [
    {
     "output_type": "stream",
     "name": "stderr",
     "text": [
      "Initializing SMC sampler...\n",
      "Sampling 2 chains in 2 jobs\n",
      "Stage:   0 Beta: 0.002\n",
      "Stage:   1 Beta: 0.014\n",
      "Stage:   2 Beta: 0.060\n",
      "Stage:   3 Beta: 0.205\n",
      "Stage:   4 Beta: 0.657\n",
      "Stage:   5 Beta: 1.000\n"
     ]
    }
   ],
   "source": [
    "num = 2\n",
    "@theano.compile.ops.as_op(itypes=[tt.dscalar for i in range(num)],otypes=[tt.dvector])\n",
    "def mu_the_pymc(H0,om):\n",
    "        return bg.mu_the(z_obs,H0,om)\n",
    "\n",
    "\n",
    "def log_likelihood(H0,om):\n",
    "    mu = mu_the_pymc(H0,om)\n",
    "    x = (mu - mu_obs)/dmu_obs \n",
    "    return -0.5*pm.math.dot(x,x)\n",
    "\n",
    "\n",
    "with pm.Model() as model:\n",
    "    H0 = pm.Uniform('H0', 60., 80.)\n",
    "    om = pm.Uniform('om', 0.1, .4)\n",
    "\n",
    "    #like = pm.Potential('like', log_likelihood(H0,om))\n",
    "    y = pm.Normal('y', mu=mu_the_pymc(H0,om), sd=dmu_obs, observed=mu_obs)\n",
    "\n",
    "    trace = pm.sample_smc(1000,random_seed=22,parallel=True)"
   ]
  },
  {
   "cell_type": "code",
   "execution_count": 21,
   "metadata": {},
   "outputs": [
    {
     "output_type": "execute_result",
     "data": {
      "text/plain": [
       "array([2.65614447e-14, 3.06770164e-14])"
      ]
     },
     "metadata": {},
     "execution_count": 21
    }
   ],
   "source": [
    "trace.report.log_marginal_likelihood\n",
    "az_trace = az.from_pymc3(trace)\n",
    "ax = az.plot_trace(az_trace, compact=True)"
   ]
  }
 ],
 "metadata": {
  "gist": {
   "data": {
    "description": "pymc_SN.ipynb",
    "public": true
   },
   "id": ""
  },
  "interpreter": {
   "hash": "5779393619fff222e630438d46484518de903c6cdded0ec53cb1ca6ec12d0377"
  },
  "kernelspec": {
   "name": "python3",
   "display_name": "Python 3.7.9 64-bit ('base': conda)"
  },
  "language_info": {
   "codemirror_mode": {
    "name": "ipython",
    "version": 3
   },
   "file_extension": ".py",
   "mimetype": "text/x-python",
   "name": "python",
   "nbconvert_exporter": "python",
   "pygments_lexer": "ipython3",
   "version": "3.7.9"
  },
  "latex_envs": {
   "LaTeX_envs_menu_present": true,
   "autoclose": false,
   "autocomplete": true,
   "bibliofile": "biblio.bib",
   "cite_by": "apalike",
   "current_citInitial": 1,
   "eqLabelWithNumbers": true,
   "eqNumInitial": 1,
   "hotkeys": {
    "equation": "Ctrl-E",
    "itemize": "Ctrl-I"
   },
   "labels_anchors": false,
   "latex_user_defs": false,
   "report_style_numbering": false,
   "user_envs_cfg": false
  }
 },
 "nbformat": 4,
 "nbformat_minor": 2
}
